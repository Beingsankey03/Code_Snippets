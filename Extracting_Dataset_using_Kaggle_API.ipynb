{
  "nbformat": 4,
  "nbformat_minor": 0,
  "metadata": {
    "colab": {
      "provenance": []
    },
    "kernelspec": {
      "name": "python3",
      "display_name": "Python 3"
    },
    "language_info": {
      "name": "python"
    }
  },
  "cells": [
    {
      "cell_type": "code",
      "execution_count": null,
      "metadata": {
        "id": "d2PDUj71Z7vV"
      },
      "outputs": [],
      "source": [
        "# installing the Kaggle library\n",
        "!pip install kaggle"
      ]
    },
    {
      "cell_type": "markdown",
      "source": [
        "Get the kaggle.json file from the kaggle account by visiting profile-> account -> Generate API"
      ],
      "metadata": {
        "id": "pWIiDZkoaES4"
      }
    },
    {
      "cell_type": "markdown",
      "source": [
        "Upload the .json file to the path at notebook."
      ],
      "metadata": {
        "id": "odusC0lQaP8w"
      }
    },
    {
      "cell_type": "code",
      "source": [
        "# configuring the path of Kaggle.json file\n",
        "!mkdir -p ~/.kaggle\n",
        "!cp kaggle.json ~/.kaggle/\n",
        "!chmod 600 ~/.kaggle/kaggle.json"
      ],
      "metadata": {
        "id": "aGpxE7PJaCvU"
      },
      "execution_count": null,
      "outputs": []
    }
  ]
}
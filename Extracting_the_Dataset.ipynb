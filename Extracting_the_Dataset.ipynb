{
  "nbformat": 4,
  "nbformat_minor": 0,
  "metadata": {
    "colab": {
      "provenance": []
    },
    "kernelspec": {
      "name": "python3",
      "display_name": "Python 3"
    },
    "language_info": {
      "name": "python"
    }
  },
  "cells": [
    {
      "cell_type": "code",
      "execution_count": null,
      "metadata": {
        "id": "kEKY-AAVZ5Pw"
      },
      "outputs": [],
      "source": [
        "# extracting the compressed dataset\n",
        "from zipfile import ZipFile\n",
        "\n",
        "dataset = '/content/dogs-vs-cats.zip'\n",
        "\n",
        "with ZipFile(dataset, 'r') as zip:\n",
        "  zip.extractall()\n",
        "  print('The dataset is extracted')"
      ]
    }
  ]
}